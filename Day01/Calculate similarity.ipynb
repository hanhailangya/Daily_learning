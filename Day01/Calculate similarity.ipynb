{
 "cells": [
  {
   "cell_type": "code",
   "execution_count": 5,
   "metadata": {
    "collapsed": true
   },
   "outputs": [],
   "source": []
  },
  {
   "cell_type": "code",
   "execution_count": 83,
   "metadata": {
    "collapsed": false
   },
   "outputs": [
    {
     "name": "stdout",
     "output_type": "stream",
     "text": [
      "图片余弦相似度 0.997854618234\n"
     ]
    }
   ],
   "source": [
    "from PIL import Image\n",
    "from numpy import average, dot, linalg\n",
    "# 对图片进行统一化处理\n",
    "def get_thum(image, size=(512,512), greyscale=False):\n",
    "    # 利用image对图像大小重新设置, Image.ANTIALIAS为高质量的\n",
    "    image = image.resize(size, Image.ANTIALIAS)\n",
    "    if greyscale:\n",
    "        # 将图片转换为L模式，其为灰度图，其每个像素用8个bit表示\n",
    "        image = image.convert('L')\n",
    "    return image\n",
    " \n",
    "# 计算图片的余弦距离\n",
    "def image_similarity_vectors_via_numpy(image1, image2):\n",
    "    image1 = get_thum(image1)\n",
    "    image2 = get_thum(image2)\n",
    "    images = [image1, image2]\n",
    "    vectors = []\n",
    "    norms = []\n",
    "    for image in images:\n",
    "        vector = []\n",
    "        for pixel_tuple in image.getdata():\n",
    "            vector.append(average(pixel_tuple))\n",
    "        vectors.append(vector)\n",
    "        # linalg=linear（线性）+algebra（代数），norm则表示范数\n",
    "        # 求图片的范数？？\n",
    "        norms.append(linalg.norm(vector, 2))\n",
    "    a, b = vectors\n",
    "    a_norm, b_norm = norms\n",
    "    # dot返回的是点积，对二维数组（矩阵）进行计算\n",
    "    res = dot(a / a_norm, b / b_norm)\n",
    "    return res\n",
    " \n",
    "image1 = Image.open('A.png')\n",
    "image2 = Image.open('B.png')\n",
    "cosin = image_similarity_vectors_via_numpy(image1, image2)\n",
    "print '图片余弦相似度',cosin"
   ]
  },
  {
   "cell_type": "code",
   "execution_count": 84,
   "metadata": {
    "collapsed": false
   },
   "outputs": [
    {
     "name": "stdout",
     "output_type": "stream",
     "text": [
      "(512L, 512L, 3L)\n",
      "(512L, 512L, 3L)\n",
      "SSIM结构相似度 0.937786477207\n"
     ]
    }
   ],
   "source": [
    "# SSIM（结构相似度度量）\n",
    "from skimage.measure import compare_ssim\n",
    "from scipy.misc import imread\n",
    "import numpy as np\n",
    " \n",
    "# 读取图片\n",
    "img1 = imread('A.png')\n",
    "img2 = imread('B.png')\n",
    "img2 = np.resize(img2, (img1.shape[0], img1.shape[1], img1.shape[2]))\n",
    "print img1.shape\n",
    "print img2.shape\n",
    "ssim =  compare_ssim(img1, img2, multichannel = True)\n",
    "print'SSIM结构相似度',ssim\n"
   ]
  },
  {
   "cell_type": "code",
   "execution_count": 85,
   "metadata": {
    "collapsed": false
   },
   "outputs": [
    {
     "name": "stdout",
     "output_type": "stream",
     "text": [
      "0000000000000000100000011110111111001111111001111110111111100111\n",
      "0000000000000000110000111110111111001111111001111110111111100111\n",
      "均值哈希算法相似度：2\n",
      "1111000011010000010100001010100001010000001001001010001110110010\n",
      "1111000001100000111010000110100001010010001000001010010011110010\n",
      "差值哈希算法相似度：15\n"
     ]
    }
   ],
   "source": [
    "import cv2\n",
    "import  numpy as np\n",
    " \n",
    "#均值哈希算法\n",
    "def aHash(img):\n",
    "    #缩放为8*8\n",
    "    img=cv2.resize(img,(8,8),interpolation=cv2.INTER_CUBIC)\n",
    "    #转换为灰度图\n",
    "    gray=cv2.cvtColor(img,cv2.COLOR_BGR2GRAY)\n",
    "    #s为像素和初值为0，hash_str为hash值初值为''\n",
    "    s=0\n",
    "    hash_str=''\n",
    "    #遍历累加求像素和\n",
    "    for i in range(8):\n",
    "        for j in range(8):\n",
    "            s=s+gray[i,j]\n",
    "    #求平均灰度\n",
    "    avg=s/64\n",
    "    #灰度大于平均值为1相反为0生成图片的hash值\n",
    "    for i in range(8):\n",
    "        for j in range(8):\n",
    "            if  gray[i,j]>avg:\n",
    "                hash_str=hash_str+'1'\n",
    "            else:\n",
    "                hash_str=hash_str+'0'\n",
    "    return hash_str\n",
    " \n",
    "#差值感知算法\n",
    "def dHash(img):\n",
    "    #缩放8*8\n",
    "    img=cv2.resize(img,(9,8),interpolation=cv2.INTER_CUBIC)\n",
    "    #转换灰度图\n",
    "    gray=cv2.cvtColor(img,cv2.COLOR_BGR2GRAY)\n",
    "    hash_str=''\n",
    "    #每行前一个像素大于后一个像素为1，相反为0，生成哈希\n",
    "    for i in range(8):\n",
    "        for j in range(8):\n",
    "            if   gray[i,j]>gray[i,j+1]:\n",
    "                hash_str=hash_str+'1'\n",
    "            else:\n",
    "                hash_str=hash_str+'0'\n",
    "    return hash_str\n",
    " \n",
    "#Hash值对比\n",
    "def cmpHash(hash1,hash2):\n",
    "    n=0\n",
    "    #hash长度不同则返回-1代表传参出错\n",
    "    if len(hash1)!=len(hash2):\n",
    "        return -1\n",
    "    #遍历判断\n",
    "    for i in range(len(hash1)):\n",
    "        #不相等则n计数+1，n最终为相似度\n",
    "        if hash1[i]!=hash2[i]:\n",
    "            n=n+1\n",
    "    return n\n",
    " \n",
    "img1=cv2.imread('A.png')\n",
    "img2=cv2.imread('B.png')\n",
    "hash1= aHash(img1)\n",
    "hash2= aHash(img2)\n",
    "print(hash1)\n",
    "print(hash2)\n",
    "n=cmpHash(hash1,hash2)\n",
    "print '均值哈希算法相似度：'+ str(n)\n",
    " \n",
    "hash1= dHash(img1)\n",
    "hash2= dHash(img2)\n",
    "print(hash1)\n",
    "print(hash2)\n",
    "n=cmpHash(hash1,hash2)\n",
    "print '差值哈希算法相似度：'+ str(n)\n"
   ]
  },
  {
   "cell_type": "code",
   "execution_count": 86,
   "metadata": {
    "collapsed": false
   },
   "outputs": [
    {
     "name": "stdout",
     "output_type": "stream",
     "text": [
      "直方图相似度为 0.60106357664\n"
     ]
    }
   ],
   "source": [
    "from PIL import Image\n",
    " \n",
    "# 将图片转化为RGB\n",
    "def make_regalur_image(img, size=(64, 64)):\n",
    "    gray_image = img.resize(size).convert('RGB')\n",
    "    return gray_image\n",
    " \n",
    "# 计算直方图\n",
    "def hist_similar(lh, rh):\n",
    "    assert len(lh) == len(rh)\n",
    "    hist = sum(1 - (0 if l == r else float(abs(l-r))/max(l,r))for l, r in zip(lh, rh))/len(lh)\n",
    "    return hist\n",
    " \n",
    "# 计算相似度\n",
    "def calc_similar(li, ri):\n",
    "    calc_sim = hist_similar(li.histogram(), ri.histogram())\n",
    "    return calc_sim\n",
    " \n",
    "if __name__ == '__main__':\n",
    "    image1 = Image.open('A.png')\n",
    "    image1 = make_regalur_image(image1)\n",
    "    image2 = Image.open('B.png')\n",
    "    image2 = make_regalur_image(image2)\n",
    "    print '直方图相似度为',calc_similar(image1, image2)\n"
   ]
  },
  {
   "cell_type": "code",
   "execution_count": null,
   "metadata": {
    "collapsed": true
   },
   "outputs": [],
   "source": []
  }
 ],
 "metadata": {
  "kernelspec": {
   "display_name": "Python [python27]",
   "language": "python",
   "name": "Python [python27]"
  },
  "language_info": {
   "codemirror_mode": {
    "name": "ipython",
    "version": 2
   },
   "file_extension": ".py",
   "mimetype": "text/x-python",
   "name": "python",
   "nbconvert_exporter": "python",
   "pygments_lexer": "ipython2",
   "version": "2.7.13"
  }
 },
 "nbformat": 4,
 "nbformat_minor": 0
}
